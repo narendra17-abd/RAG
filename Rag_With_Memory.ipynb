{
  "nbformat": 4,
  "nbformat_minor": 0,
  "metadata": {
    "colab": {
      "provenance": []
    },
    "kernelspec": {
      "name": "python3",
      "display_name": "Python 3"
    },
    "language_info": {
      "name": "python"
    }
  },
  "cells": [
    {
      "cell_type": "code",
      "execution_count": null,
      "metadata": {
        "id": "0ARNV3d3Ia-l",
        "colab": {
          "base_uri": "https://localhost:8080/"
        },
        "outputId": "8de89465-19e3-410b-85b7-fbf72b7f599f"
      },
      "outputs": [
        {
          "output_type": "stream",
          "name": "stdout",
          "text": [
            "Collecting langchain\n",
            "  Downloading langchain-0.1.13-py3-none-any.whl (810 kB)\n",
            "\u001b[2K     \u001b[90m━━━━━━━━━━━━━━━━━━━━━━━━━━━━━━━━━━━━━━━━\u001b[0m \u001b[32m810.5/810.5 kB\u001b[0m \u001b[31m6.0 MB/s\u001b[0m eta \u001b[36m0:00:00\u001b[0m\n",
            "\u001b[?25hRequirement already satisfied: PyYAML>=5.3 in /usr/local/lib/python3.10/dist-packages (from langchain) (6.0.1)\n",
            "Requirement already satisfied: SQLAlchemy<3,>=1.4 in /usr/local/lib/python3.10/dist-packages (from langchain) (2.0.28)\n",
            "Requirement already satisfied: aiohttp<4.0.0,>=3.8.3 in /usr/local/lib/python3.10/dist-packages (from langchain) (3.9.3)\n",
            "Requirement already satisfied: async-timeout<5.0.0,>=4.0.0 in /usr/local/lib/python3.10/dist-packages (from langchain) (4.0.3)\n",
            "Collecting dataclasses-json<0.7,>=0.5.7 (from langchain)\n",
            "  Downloading dataclasses_json-0.6.4-py3-none-any.whl (28 kB)\n",
            "Collecting jsonpatch<2.0,>=1.33 (from langchain)\n",
            "  Downloading jsonpatch-1.33-py2.py3-none-any.whl (12 kB)\n",
            "Collecting langchain-community<0.1,>=0.0.29 (from langchain)\n",
            "  Downloading langchain_community-0.0.29-py3-none-any.whl (1.8 MB)\n",
            "\u001b[2K     \u001b[90m━━━━━━━━━━━━━━━━━━━━━━━━━━━━━━━━━━━━━━━━\u001b[0m \u001b[32m1.8/1.8 MB\u001b[0m \u001b[31m11.7 MB/s\u001b[0m eta \u001b[36m0:00:00\u001b[0m\n",
            "\u001b[?25hCollecting langchain-core<0.2.0,>=0.1.33 (from langchain)\n",
            "  Downloading langchain_core-0.1.33-py3-none-any.whl (269 kB)\n",
            "\u001b[2K     \u001b[90m━━━━━━━━━━━━━━━━━━━━━━━━━━━━━━━━━━━━━━━━\u001b[0m \u001b[32m269.1/269.1 kB\u001b[0m \u001b[31m10.4 MB/s\u001b[0m eta \u001b[36m0:00:00\u001b[0m\n",
            "\u001b[?25hCollecting langchain-text-splitters<0.1,>=0.0.1 (from langchain)\n",
            "  Downloading langchain_text_splitters-0.0.1-py3-none-any.whl (21 kB)\n",
            "Collecting langsmith<0.2.0,>=0.1.17 (from langchain)\n",
            "  Downloading langsmith-0.1.31-py3-none-any.whl (71 kB)\n",
            "\u001b[2K     \u001b[90m━━━━━━━━━━━━━━━━━━━━━━━━━━━━━━━━━━━━━━━━\u001b[0m \u001b[32m71.6/71.6 kB\u001b[0m \u001b[31m5.6 MB/s\u001b[0m eta \u001b[36m0:00:00\u001b[0m\n",
            "\u001b[?25hRequirement already satisfied: numpy<2,>=1 in /usr/local/lib/python3.10/dist-packages (from langchain) (1.25.2)\n",
            "Requirement already satisfied: pydantic<3,>=1 in /usr/local/lib/python3.10/dist-packages (from langchain) (2.6.4)\n",
            "Requirement already satisfied: requests<3,>=2 in /usr/local/lib/python3.10/dist-packages (from langchain) (2.31.0)\n",
            "Requirement already satisfied: tenacity<9.0.0,>=8.1.0 in /usr/local/lib/python3.10/dist-packages (from langchain) (8.2.3)\n",
            "Requirement already satisfied: aiosignal>=1.1.2 in /usr/local/lib/python3.10/dist-packages (from aiohttp<4.0.0,>=3.8.3->langchain) (1.3.1)\n",
            "Requirement already satisfied: attrs>=17.3.0 in /usr/local/lib/python3.10/dist-packages (from aiohttp<4.0.0,>=3.8.3->langchain) (23.2.0)\n",
            "Requirement already satisfied: frozenlist>=1.1.1 in /usr/local/lib/python3.10/dist-packages (from aiohttp<4.0.0,>=3.8.3->langchain) (1.4.1)\n",
            "Requirement already satisfied: multidict<7.0,>=4.5 in /usr/local/lib/python3.10/dist-packages (from aiohttp<4.0.0,>=3.8.3->langchain) (6.0.5)\n",
            "Requirement already satisfied: yarl<2.0,>=1.0 in /usr/local/lib/python3.10/dist-packages (from aiohttp<4.0.0,>=3.8.3->langchain) (1.9.4)\n",
            "Collecting marshmallow<4.0.0,>=3.18.0 (from dataclasses-json<0.7,>=0.5.7->langchain)\n",
            "  Downloading marshmallow-3.21.1-py3-none-any.whl (49 kB)\n",
            "\u001b[2K     \u001b[90m━━━━━━━━━━━━━━━━━━━━━━━━━━━━━━━━━━━━━━━━\u001b[0m \u001b[32m49.4/49.4 kB\u001b[0m \u001b[31m3.5 MB/s\u001b[0m eta \u001b[36m0:00:00\u001b[0m\n",
            "\u001b[?25hCollecting typing-inspect<1,>=0.4.0 (from dataclasses-json<0.7,>=0.5.7->langchain)\n",
            "  Downloading typing_inspect-0.9.0-py3-none-any.whl (8.8 kB)\n",
            "Collecting jsonpointer>=1.9 (from jsonpatch<2.0,>=1.33->langchain)\n",
            "  Downloading jsonpointer-2.4-py2.py3-none-any.whl (7.8 kB)\n",
            "Requirement already satisfied: anyio<5,>=3 in /usr/local/lib/python3.10/dist-packages (from langchain-core<0.2.0,>=0.1.33->langchain) (3.7.1)\n",
            "Collecting packaging<24.0,>=23.2 (from langchain-core<0.2.0,>=0.1.33->langchain)\n",
            "  Downloading packaging-23.2-py3-none-any.whl (53 kB)\n",
            "\u001b[2K     \u001b[90m━━━━━━━━━━━━━━━━━━━━━━━━━━━━━━━━━━━━━━━━\u001b[0m \u001b[32m53.0/53.0 kB\u001b[0m \u001b[31m4.2 MB/s\u001b[0m eta \u001b[36m0:00:00\u001b[0m\n",
            "\u001b[?25hCollecting orjson<4.0.0,>=3.9.14 (from langsmith<0.2.0,>=0.1.17->langchain)\n",
            "  Downloading orjson-3.9.15-cp310-cp310-manylinux_2_17_x86_64.manylinux2014_x86_64.whl (138 kB)\n",
            "\u001b[2K     \u001b[90m━━━━━━━━━━━━━━━━━━━━━━━━━━━━━━━━━━━━━━━━\u001b[0m \u001b[32m138.5/138.5 kB\u001b[0m \u001b[31m1.3 MB/s\u001b[0m eta \u001b[36m0:00:00\u001b[0m\n",
            "\u001b[?25hRequirement already satisfied: annotated-types>=0.4.0 in /usr/local/lib/python3.10/dist-packages (from pydantic<3,>=1->langchain) (0.6.0)\n",
            "Requirement already satisfied: pydantic-core==2.16.3 in /usr/local/lib/python3.10/dist-packages (from pydantic<3,>=1->langchain) (2.16.3)\n",
            "Requirement already satisfied: typing-extensions>=4.6.1 in /usr/local/lib/python3.10/dist-packages (from pydantic<3,>=1->langchain) (4.10.0)\n",
            "Requirement already satisfied: charset-normalizer<4,>=2 in /usr/local/lib/python3.10/dist-packages (from requests<3,>=2->langchain) (3.3.2)\n",
            "Requirement already satisfied: idna<4,>=2.5 in /usr/local/lib/python3.10/dist-packages (from requests<3,>=2->langchain) (3.6)\n",
            "Requirement already satisfied: urllib3<3,>=1.21.1 in /usr/local/lib/python3.10/dist-packages (from requests<3,>=2->langchain) (2.0.7)\n",
            "Requirement already satisfied: certifi>=2017.4.17 in /usr/local/lib/python3.10/dist-packages (from requests<3,>=2->langchain) (2024.2.2)\n",
            "Requirement already satisfied: greenlet!=0.4.17 in /usr/local/lib/python3.10/dist-packages (from SQLAlchemy<3,>=1.4->langchain) (3.0.3)\n",
            "Requirement already satisfied: sniffio>=1.1 in /usr/local/lib/python3.10/dist-packages (from anyio<5,>=3->langchain-core<0.2.0,>=0.1.33->langchain) (1.3.1)\n",
            "Requirement already satisfied: exceptiongroup in /usr/local/lib/python3.10/dist-packages (from anyio<5,>=3->langchain-core<0.2.0,>=0.1.33->langchain) (1.2.0)\n",
            "Collecting mypy-extensions>=0.3.0 (from typing-inspect<1,>=0.4.0->dataclasses-json<0.7,>=0.5.7->langchain)\n",
            "  Downloading mypy_extensions-1.0.0-py3-none-any.whl (4.7 kB)\n",
            "Installing collected packages: packaging, orjson, mypy-extensions, jsonpointer, typing-inspect, marshmallow, jsonpatch, langsmith, dataclasses-json, langchain-core, langchain-text-splitters, langchain-community, langchain\n",
            "  Attempting uninstall: packaging\n",
            "    Found existing installation: packaging 24.0\n",
            "    Uninstalling packaging-24.0:\n",
            "      Successfully uninstalled packaging-24.0\n",
            "Successfully installed dataclasses-json-0.6.4 jsonpatch-1.33 jsonpointer-2.4 langchain-0.1.13 langchain-community-0.0.29 langchain-core-0.1.33 langchain-text-splitters-0.0.1 langsmith-0.1.31 marshmallow-3.21.1 mypy-extensions-1.0.0 orjson-3.9.15 packaging-23.2 typing-inspect-0.9.0\n",
            "Requirement already satisfied: langchain_community in /usr/local/lib/python3.10/dist-packages (0.0.29)\n",
            "Requirement already satisfied: PyYAML>=5.3 in /usr/local/lib/python3.10/dist-packages (from langchain_community) (6.0.1)\n",
            "Requirement already satisfied: SQLAlchemy<3,>=1.4 in /usr/local/lib/python3.10/dist-packages (from langchain_community) (2.0.28)\n",
            "Requirement already satisfied: aiohttp<4.0.0,>=3.8.3 in /usr/local/lib/python3.10/dist-packages (from langchain_community) (3.9.3)\n",
            "Requirement already satisfied: dataclasses-json<0.7,>=0.5.7 in /usr/local/lib/python3.10/dist-packages (from langchain_community) (0.6.4)\n",
            "Requirement already satisfied: langchain-core<0.2.0,>=0.1.33 in /usr/local/lib/python3.10/dist-packages (from langchain_community) (0.1.33)\n",
            "Requirement already satisfied: langsmith<0.2.0,>=0.1.0 in /usr/local/lib/python3.10/dist-packages (from langchain_community) (0.1.31)\n",
            "Requirement already satisfied: numpy<2,>=1 in /usr/local/lib/python3.10/dist-packages (from langchain_community) (1.25.2)\n",
            "Requirement already satisfied: requests<3,>=2 in /usr/local/lib/python3.10/dist-packages (from langchain_community) (2.31.0)\n",
            "Requirement already satisfied: tenacity<9.0.0,>=8.1.0 in /usr/local/lib/python3.10/dist-packages (from langchain_community) (8.2.3)\n",
            "Requirement already satisfied: aiosignal>=1.1.2 in /usr/local/lib/python3.10/dist-packages (from aiohttp<4.0.0,>=3.8.3->langchain_community) (1.3.1)\n",
            "Requirement already satisfied: attrs>=17.3.0 in /usr/local/lib/python3.10/dist-packages (from aiohttp<4.0.0,>=3.8.3->langchain_community) (23.2.0)\n",
            "Requirement already satisfied: frozenlist>=1.1.1 in /usr/local/lib/python3.10/dist-packages (from aiohttp<4.0.0,>=3.8.3->langchain_community) (1.4.1)\n",
            "Requirement already satisfied: multidict<7.0,>=4.5 in /usr/local/lib/python3.10/dist-packages (from aiohttp<4.0.0,>=3.8.3->langchain_community) (6.0.5)\n",
            "Requirement already satisfied: yarl<2.0,>=1.0 in /usr/local/lib/python3.10/dist-packages (from aiohttp<4.0.0,>=3.8.3->langchain_community) (1.9.4)\n",
            "Requirement already satisfied: async-timeout<5.0,>=4.0 in /usr/local/lib/python3.10/dist-packages (from aiohttp<4.0.0,>=3.8.3->langchain_community) (4.0.3)\n",
            "Requirement already satisfied: marshmallow<4.0.0,>=3.18.0 in /usr/local/lib/python3.10/dist-packages (from dataclasses-json<0.7,>=0.5.7->langchain_community) (3.21.1)\n",
            "Requirement already satisfied: typing-inspect<1,>=0.4.0 in /usr/local/lib/python3.10/dist-packages (from dataclasses-json<0.7,>=0.5.7->langchain_community) (0.9.0)\n",
            "Requirement already satisfied: anyio<5,>=3 in /usr/local/lib/python3.10/dist-packages (from langchain-core<0.2.0,>=0.1.33->langchain_community) (3.7.1)\n",
            "Requirement already satisfied: jsonpatch<2.0,>=1.33 in /usr/local/lib/python3.10/dist-packages (from langchain-core<0.2.0,>=0.1.33->langchain_community) (1.33)\n",
            "Requirement already satisfied: packaging<24.0,>=23.2 in /usr/local/lib/python3.10/dist-packages (from langchain-core<0.2.0,>=0.1.33->langchain_community) (23.2)\n",
            "Requirement already satisfied: pydantic<3,>=1 in /usr/local/lib/python3.10/dist-packages (from langchain-core<0.2.0,>=0.1.33->langchain_community) (2.6.4)\n",
            "Requirement already satisfied: orjson<4.0.0,>=3.9.14 in /usr/local/lib/python3.10/dist-packages (from langsmith<0.2.0,>=0.1.0->langchain_community) (3.9.15)\n",
            "Requirement already satisfied: charset-normalizer<4,>=2 in /usr/local/lib/python3.10/dist-packages (from requests<3,>=2->langchain_community) (3.3.2)\n",
            "Requirement already satisfied: idna<4,>=2.5 in /usr/local/lib/python3.10/dist-packages (from requests<3,>=2->langchain_community) (3.6)\n",
            "Requirement already satisfied: urllib3<3,>=1.21.1 in /usr/local/lib/python3.10/dist-packages (from requests<3,>=2->langchain_community) (2.0.7)\n",
            "Requirement already satisfied: certifi>=2017.4.17 in /usr/local/lib/python3.10/dist-packages (from requests<3,>=2->langchain_community) (2024.2.2)\n",
            "Requirement already satisfied: typing-extensions>=4.6.0 in /usr/local/lib/python3.10/dist-packages (from SQLAlchemy<3,>=1.4->langchain_community) (4.10.0)\n",
            "Requirement already satisfied: greenlet!=0.4.17 in /usr/local/lib/python3.10/dist-packages (from SQLAlchemy<3,>=1.4->langchain_community) (3.0.3)\n",
            "Requirement already satisfied: sniffio>=1.1 in /usr/local/lib/python3.10/dist-packages (from anyio<5,>=3->langchain-core<0.2.0,>=0.1.33->langchain_community) (1.3.1)\n",
            "Requirement already satisfied: exceptiongroup in /usr/local/lib/python3.10/dist-packages (from anyio<5,>=3->langchain-core<0.2.0,>=0.1.33->langchain_community) (1.2.0)\n",
            "Requirement already satisfied: jsonpointer>=1.9 in /usr/local/lib/python3.10/dist-packages (from jsonpatch<2.0,>=1.33->langchain-core<0.2.0,>=0.1.33->langchain_community) (2.4)\n",
            "Requirement already satisfied: annotated-types>=0.4.0 in /usr/local/lib/python3.10/dist-packages (from pydantic<3,>=1->langchain-core<0.2.0,>=0.1.33->langchain_community) (0.6.0)\n",
            "Requirement already satisfied: pydantic-core==2.16.3 in /usr/local/lib/python3.10/dist-packages (from pydantic<3,>=1->langchain-core<0.2.0,>=0.1.33->langchain_community) (2.16.3)\n",
            "Requirement already satisfied: mypy-extensions>=0.3.0 in /usr/local/lib/python3.10/dist-packages (from typing-inspect<1,>=0.4.0->dataclasses-json<0.7,>=0.5.7->langchain_community) (1.0.0)\n",
            "Collecting langchain_openai\n",
            "  Downloading langchain_openai-0.1.0-py3-none-any.whl (32 kB)\n",
            "Requirement already satisfied: langchain-core<0.2.0,>=0.1.33 in /usr/local/lib/python3.10/dist-packages (from langchain_openai) (0.1.33)\n",
            "Collecting openai<2.0.0,>=1.10.0 (from langchain_openai)\n",
            "  Downloading openai-1.14.2-py3-none-any.whl (262 kB)\n",
            "\u001b[2K     \u001b[90m━━━━━━━━━━━━━━━━━━━━━━━━━━━━━━━━━━━━━━━━\u001b[0m \u001b[32m262.4/262.4 kB\u001b[0m \u001b[31m8.5 MB/s\u001b[0m eta \u001b[36m0:00:00\u001b[0m\n",
            "\u001b[?25hCollecting tiktoken<1,>=0.5.2 (from langchain_openai)\n",
            "  Downloading tiktoken-0.6.0-cp310-cp310-manylinux_2_17_x86_64.manylinux2014_x86_64.whl (1.8 MB)\n",
            "\u001b[2K     \u001b[90m━━━━━━━━━━━━━━━━━━━━━━━━━━━━━━━━━━━━━━━━\u001b[0m \u001b[32m1.8/1.8 MB\u001b[0m \u001b[31m43.1 MB/s\u001b[0m eta \u001b[36m0:00:00\u001b[0m\n",
            "\u001b[?25hRequirement already satisfied: PyYAML>=5.3 in /usr/local/lib/python3.10/dist-packages (from langchain-core<0.2.0,>=0.1.33->langchain_openai) (6.0.1)\n",
            "Requirement already satisfied: anyio<5,>=3 in /usr/local/lib/python3.10/dist-packages (from langchain-core<0.2.0,>=0.1.33->langchain_openai) (3.7.1)\n",
            "Requirement already satisfied: jsonpatch<2.0,>=1.33 in /usr/local/lib/python3.10/dist-packages (from langchain-core<0.2.0,>=0.1.33->langchain_openai) (1.33)\n",
            "Requirement already satisfied: langsmith<0.2.0,>=0.1.0 in /usr/local/lib/python3.10/dist-packages (from langchain-core<0.2.0,>=0.1.33->langchain_openai) (0.1.31)\n",
            "Requirement already satisfied: packaging<24.0,>=23.2 in /usr/local/lib/python3.10/dist-packages (from langchain-core<0.2.0,>=0.1.33->langchain_openai) (23.2)\n",
            "Requirement already satisfied: pydantic<3,>=1 in /usr/local/lib/python3.10/dist-packages (from langchain-core<0.2.0,>=0.1.33->langchain_openai) (2.6.4)\n",
            "Requirement already satisfied: requests<3,>=2 in /usr/local/lib/python3.10/dist-packages (from langchain-core<0.2.0,>=0.1.33->langchain_openai) (2.31.0)\n",
            "Requirement already satisfied: tenacity<9.0.0,>=8.1.0 in /usr/local/lib/python3.10/dist-packages (from langchain-core<0.2.0,>=0.1.33->langchain_openai) (8.2.3)\n",
            "Requirement already satisfied: distro<2,>=1.7.0 in /usr/lib/python3/dist-packages (from openai<2.0.0,>=1.10.0->langchain_openai) (1.7.0)\n",
            "Collecting httpx<1,>=0.23.0 (from openai<2.0.0,>=1.10.0->langchain_openai)\n",
            "  Downloading httpx-0.27.0-py3-none-any.whl (75 kB)\n",
            "\u001b[2K     \u001b[90m━━━━━━━━━━━━━━━━━━━━━━━━━━━━━━━━━━━━━━━━\u001b[0m \u001b[32m75.6/75.6 kB\u001b[0m \u001b[31m9.2 MB/s\u001b[0m eta \u001b[36m0:00:00\u001b[0m\n",
            "\u001b[?25hRequirement already satisfied: sniffio in /usr/local/lib/python3.10/dist-packages (from openai<2.0.0,>=1.10.0->langchain_openai) (1.3.1)\n",
            "Requirement already satisfied: tqdm>4 in /usr/local/lib/python3.10/dist-packages (from openai<2.0.0,>=1.10.0->langchain_openai) (4.66.2)\n",
            "Requirement already satisfied: typing-extensions<5,>=4.7 in /usr/local/lib/python3.10/dist-packages (from openai<2.0.0,>=1.10.0->langchain_openai) (4.10.0)\n",
            "Requirement already satisfied: regex>=2022.1.18 in /usr/local/lib/python3.10/dist-packages (from tiktoken<1,>=0.5.2->langchain_openai) (2023.12.25)\n",
            "Requirement already satisfied: idna>=2.8 in /usr/local/lib/python3.10/dist-packages (from anyio<5,>=3->langchain-core<0.2.0,>=0.1.33->langchain_openai) (3.6)\n",
            "Requirement already satisfied: exceptiongroup in /usr/local/lib/python3.10/dist-packages (from anyio<5,>=3->langchain-core<0.2.0,>=0.1.33->langchain_openai) (1.2.0)\n",
            "Requirement already satisfied: certifi in /usr/local/lib/python3.10/dist-packages (from httpx<1,>=0.23.0->openai<2.0.0,>=1.10.0->langchain_openai) (2024.2.2)\n",
            "Collecting httpcore==1.* (from httpx<1,>=0.23.0->openai<2.0.0,>=1.10.0->langchain_openai)\n",
            "  Downloading httpcore-1.0.4-py3-none-any.whl (77 kB)\n",
            "\u001b[2K     \u001b[90m━━━━━━━━━━━━━━━━━━━━━━━━━━━━━━━━━━━━━━━━\u001b[0m \u001b[32m77.8/77.8 kB\u001b[0m \u001b[31m9.5 MB/s\u001b[0m eta \u001b[36m0:00:00\u001b[0m\n",
            "\u001b[?25hCollecting h11<0.15,>=0.13 (from httpcore==1.*->httpx<1,>=0.23.0->openai<2.0.0,>=1.10.0->langchain_openai)\n",
            "  Downloading h11-0.14.0-py3-none-any.whl (58 kB)\n",
            "\u001b[2K     \u001b[90m━━━━━━━━━━━━━━━━━━━━━━━━━━━━━━━━━━━━━━━━\u001b[0m \u001b[32m58.3/58.3 kB\u001b[0m \u001b[31m6.0 MB/s\u001b[0m eta \u001b[36m0:00:00\u001b[0m\n",
            "\u001b[?25hRequirement already satisfied: jsonpointer>=1.9 in /usr/local/lib/python3.10/dist-packages (from jsonpatch<2.0,>=1.33->langchain-core<0.2.0,>=0.1.33->langchain_openai) (2.4)\n",
            "Requirement already satisfied: orjson<4.0.0,>=3.9.14 in /usr/local/lib/python3.10/dist-packages (from langsmith<0.2.0,>=0.1.0->langchain-core<0.2.0,>=0.1.33->langchain_openai) (3.9.15)\n",
            "Requirement already satisfied: annotated-types>=0.4.0 in /usr/local/lib/python3.10/dist-packages (from pydantic<3,>=1->langchain-core<0.2.0,>=0.1.33->langchain_openai) (0.6.0)\n",
            "Requirement already satisfied: pydantic-core==2.16.3 in /usr/local/lib/python3.10/dist-packages (from pydantic<3,>=1->langchain-core<0.2.0,>=0.1.33->langchain_openai) (2.16.3)\n",
            "Requirement already satisfied: charset-normalizer<4,>=2 in /usr/local/lib/python3.10/dist-packages (from requests<3,>=2->langchain-core<0.2.0,>=0.1.33->langchain_openai) (3.3.2)\n",
            "Requirement already satisfied: urllib3<3,>=1.21.1 in /usr/local/lib/python3.10/dist-packages (from requests<3,>=2->langchain-core<0.2.0,>=0.1.33->langchain_openai) (2.0.7)\n",
            "Installing collected packages: h11, tiktoken, httpcore, httpx, openai, langchain_openai\n",
            "Successfully installed h11-0.14.0 httpcore-1.0.4 httpx-0.27.0 langchain_openai-0.1.0 openai-1.14.2 tiktoken-0.6.0\n",
            "Collecting faiss-cpu\n",
            "  Downloading faiss_cpu-1.8.0-cp310-cp310-manylinux_2_17_x86_64.manylinux2014_x86_64.whl (27.0 MB)\n",
            "\u001b[2K     \u001b[90m━━━━━━━━━━━━━━━━━━━━━━━━━━━━━━━━━━━━━━━━\u001b[0m \u001b[32m27.0/27.0 MB\u001b[0m \u001b[31m32.6 MB/s\u001b[0m eta \u001b[36m0:00:00\u001b[0m\n",
            "\u001b[?25hRequirement already satisfied: numpy in /usr/local/lib/python3.10/dist-packages (from faiss-cpu) (1.25.2)\n",
            "Installing collected packages: faiss-cpu\n",
            "Successfully installed faiss-cpu-1.8.0\n",
            "Collecting pypdf\n",
            "  Downloading pypdf-4.1.0-py3-none-any.whl (286 kB)\n",
            "\u001b[2K     \u001b[90m━━━━━━━━━━━━━━━━━━━━━━━━━━━━━━━━━━━━━━━━\u001b[0m \u001b[32m286.1/286.1 kB\u001b[0m \u001b[31m5.5 MB/s\u001b[0m eta \u001b[36m0:00:00\u001b[0m\n",
            "\u001b[?25hInstalling collected packages: pypdf\n",
            "Successfully installed pypdf-4.1.0\n"
          ]
        }
      ],
      "source": [
        "!pip install -U langchain\n",
        "!pip install -U langchain_community\n",
        "!pip install -U langchain_openai\n",
        "!pip install -U faiss-cpu\n",
        "!pip install pypdf"
      ]
    },
    {
      "cell_type": "code",
      "source": [
        "from langchain_community.document_loaders import PyPDFLoader\n",
        "from langchain.document_loaders.text import TextLoader\n",
        "# loading documents\n",
        "loader = PyPDFLoader(\"/content/lollll.pdf\")\n",
        "pdfpages=loader.load_and_split()\n",
        "\n",
        "\n",
        "\n",
        "from langchain.text_splitter import CharacterTextSplitter\n",
        "from langchain_community.vectorstores import FAISS\n",
        "from langchain_openai.embeddings import OpenAIEmbeddings\n",
        "\n",
        "import os\n",
        "\n",
        "os.environ[\"OPENAI_API_KEY\"]=\"# your key value \"\n"
      ],
      "metadata": {
        "id": "QGCjlUVvIcPb"
      },
      "execution_count": null,
      "outputs": []
    },
    {
      "cell_type": "code",
      "source": [
        "doc=loader.load()\n",
        "text_splitter=CharacterTextSplitter(chunk_size=1000 ,chunk_overlap=0)\n",
        "texts=text_splitter.split_documents(doc)\n",
        "\n",
        "\n",
        "embeddings = OpenAIEmbeddings()\n",
        "\n",
        "\n",
        "db=FAISS.from_documents(texts , embeddings)"
      ],
      "metadata": {
        "id": "LVxVX32VIcSI"
      },
      "execution_count": null,
      "outputs": []
    },
    {
      "cell_type": "code",
      "source": [
        "db"
      ],
      "metadata": {
        "id": "z3KHO7PvIcU4",
        "colab": {
          "base_uri": "https://localhost:8080/"
        },
        "outputId": "6c264097-94f6-4af1-a97f-328e94c00591"
      },
      "execution_count": null,
      "outputs": [
        {
          "output_type": "execute_result",
          "data": {
            "text/plain": [
              "<langchain_community.vectorstores.faiss.FAISS at 0x797a25470e20>"
            ]
          },
          "metadata": {},
          "execution_count": 4
        }
      ]
    },
    {
      "cell_type": "code",
      "source": [],
      "metadata": {
        "id": "kFmeGSCGIcX5"
      },
      "execution_count": null,
      "outputs": []
    },
    {
      "cell_type": "code",
      "source": [
        "retriever = db.as_retriever()\n",
        "\n",
        "from langchain.agents.agent_toolkits import create_retriever_tool\n",
        "\n",
        "# Choose a valid function name (e.g., describe_and_search)\n",
        "tool=create_retriever_tool(\n",
        "  retriever,\n",
        "  \"describe_and_search\",  # Replace with your chosen name\n",
        "  \"searched and returns documents \"\n",
        ")\n",
        "\n",
        "tools =[tool]\n",
        "\n",
        "from langchain.agents.agent_toolkits import create_conversational_retrieval_agent\n",
        "\n",
        "\n",
        "from langchain_openai.chat_models import ChatOpenAI\n",
        "\n",
        "llm=ChatOpenAI(temperature=0)\n",
        "\n",
        "agent_executor = create_conversational_retrieval_agent(llm,tools, verbose=True)\n"
      ],
      "metadata": {
        "id": "q5EEjL46bXEy"
      },
      "execution_count": null,
      "outputs": []
    },
    {
      "cell_type": "code",
      "source": [
        "input=\"define management? \"\n",
        "result=agent_executor.invoke({\"input\": input+\"Give me answer in 50 words\"})"
      ],
      "metadata": {
        "id": "nkJnpd4CIca5",
        "colab": {
          "base_uri": "https://localhost:8080/"
        },
        "outputId": "3b66f0d3-9537-47af-eda5-2213a3551de5"
      },
      "execution_count": null,
      "outputs": [
        {
          "output_type": "stream",
          "name": "stdout",
          "text": [
            "\n",
            "\n",
            "\u001b[1m> Entering new AgentExecutor chain...\u001b[0m\n",
            "\u001b[32;1m\u001b[1;3mManagement is the process of planning, organizing, leading, and controlling resources within an organization to achieve specific goals and objectives. It involves coordinating people, tasks, and resources effectively and efficiently to ensure the smooth operation of the business and the attainment of desired outcomes.\u001b[0m\n",
            "\n",
            "\u001b[1m> Finished chain.\u001b[0m\n"
          ]
        }
      ]
    },
    {
      "cell_type": "code",
      "source": [
        "print(result)"
      ],
      "metadata": {
        "id": "SHaUXqkIIceB",
        "colab": {
          "base_uri": "https://localhost:8080/"
        },
        "outputId": "94de2ad3-f954-4305-bd41-c32ead5c6a0f"
      },
      "execution_count": null,
      "outputs": [
        {
          "output_type": "stream",
          "name": "stdout",
          "text": [
            "{'input': 'define management? Give me answer in 50 words', 'chat_history': [HumanMessage(content='define government intelligence? Give me answer in 50 words'), AIMessage(content='Government intelligence refers to the collection, analysis, and dissemination of information by government agencies to support national security and decision-making. It involves gathering data through various means, such as surveillance and espionage, to assess threats, prevent risks, and protect the interests of a country.'), HumanMessage(content='define management? Give me answer in 50 words'), AIMessage(content='Management is the process of planning, organizing, leading, and controlling resources within an organization to achieve specific goals and objectives. It involves coordinating people, tasks, and resources effectively and efficiently to ensure the smooth operation of the business and the attainment of desired outcomes.')], 'output': 'Management is the process of planning, organizing, leading, and controlling resources within an organization to achieve specific goals and objectives. It involves coordinating people, tasks, and resources effectively and efficiently to ensure the smooth operation of the business and the attainment of desired outcomes.', 'intermediate_steps': []}\n"
          ]
        }
      ]
    },
    {
      "cell_type": "markdown",
      "source": [],
      "metadata": {
        "id": "iy5c_Uurcsay"
      }
    },
    {
      "cell_type": "code",
      "source": [
        "#lets go for the chatPrompt templete for better input to the llm\n",
        "from langchain_core.prompts import ChatPromptTemplate\n",
        "\n",
        "prompt  = ChatPromptTemplate.from_messages([\n",
        "    (\"system\",\"You a model to read and answer.\"),\n",
        "    (\"user\",\"{input}\")\n",
        "])"
      ],
      "metadata": {
        "id": "_vq5jlWGIcgo"
      },
      "execution_count": null,
      "outputs": []
    },
    {
      "cell_type": "code",
      "source": [
        "# here first chain is prompt and second one is llm\n",
        "chain  = prompt | llm"
      ],
      "metadata": {
        "id": "crAHPdUZIcjp"
      },
      "execution_count": null,
      "outputs": []
    },
    {
      "cell_type": "code",
      "source": [
        "chain.invoke({\"input\":\"define government intelligence?\"})"
      ],
      "metadata": {
        "colab": {
          "base_uri": "https://localhost:8080/"
        },
        "id": "zBYa7r-onakm",
        "outputId": "62757ef8-d042-429f-890b-ca9f558b3898"
      },
      "execution_count": null,
      "outputs": [
        {
          "output_type": "execute_result",
          "data": {
            "text/plain": [
              "AIMessage(content='Government intelligence refers to the information and insights gathered by government agencies through various means such as surveillance, espionage, analysis of open-source information, and other methods. This intelligence is used to inform government decision-making, protect national security, and support law enforcement efforts. Government intelligence agencies work to collect, analyze, and disseminate information on threats to the country, both domestically and internationally.', response_metadata={'token_usage': {'completion_tokens': 75, 'prompt_tokens': 23, 'total_tokens': 98}, 'model_name': 'gpt-3.5-turbo', 'system_fingerprint': 'fp_fa89f7a861', 'finish_reason': 'stop', 'logprobs': None})"
            ]
          },
          "metadata": {},
          "execution_count": 11
        }
      ]
    },
    {
      "cell_type": "code",
      "source": [
        "chain.invoke({\"input\":\"define government intelligence?\"}).content"
      ],
      "metadata": {
        "colab": {
          "base_uri": "https://localhost:8080/",
          "height": 90
        },
        "id": "JxXt9q0xnan5",
        "outputId": "223fb4ca-dabb-43f9-dff9-3def190f0dee"
      },
      "execution_count": null,
      "outputs": [
        {
          "output_type": "execute_result",
          "data": {
            "text/plain": [
              "'Government intelligence refers to the information and insights gathered by government agencies through various means such as surveillance, espionage, analysis of open-source information, and other methods. This intelligence is used to inform government decision-making, protect national security, and support law enforcement efforts. Government intelligence agencies work to collect, analyze, and disseminate information on threats to the country, both domestically and internationally.'"
            ],
            "application/vnd.google.colaboratory.intrinsic+json": {
              "type": "string"
            }
          },
          "metadata": {},
          "execution_count": 12
        }
      ]
    },
    {
      "cell_type": "code",
      "source": [
        "from langchain_core.output_parsers import StrOutputParser\n",
        "#third chain\n",
        "output_str_parser = StrOutputParser()"
      ],
      "metadata": {
        "id": "9DntW-2Onaqu"
      },
      "execution_count": null,
      "outputs": []
    },
    {
      "cell_type": "code",
      "source": [
        "# let create a new chain\n",
        "chain = prompt | llm | output_str_parser"
      ],
      "metadata": {
        "id": "-Tb8zDErnatQ"
      },
      "execution_count": null,
      "outputs": []
    },
    {
      "cell_type": "code",
      "source": [
        "query=\"define government intelligence\"\n",
        "x=chain.invoke({\"input\":query})\n",
        "x"
      ],
      "metadata": {
        "colab": {
          "base_uri": "https://localhost:8080/",
          "height": 72
        },
        "id": "RYVm3petnawT",
        "outputId": "1f47894b-a655-4298-cf8e-403d9863944e"
      },
      "execution_count": null,
      "outputs": [
        {
          "output_type": "execute_result",
          "data": {
            "text/plain": [
              "'Government intelligence refers to the information and analysis gathered by government agencies to support decision-making and national security efforts. This intelligence is typically collected through various means, such as espionage, surveillance, and analysis of open-source information. Government intelligence is used to assess threats, inform policy decisions, and protect the interests of the state.'"
            ],
            "application/vnd.google.colaboratory.intrinsic+json": {
              "type": "string"
            }
          },
          "metadata": {},
          "execution_count": 15
        }
      ]
    },
    {
      "cell_type": "code",
      "source": [
        "query=\"what was my input ? \"\n",
        "x=chain.invoke({\"input\":query})\n",
        "x"
      ],
      "metadata": {
        "colab": {
          "base_uri": "https://localhost:8080/",
          "height": 36
        },
        "id": "9H0gw5b7nzbS",
        "outputId": "4a3d77bd-8829-460c-e208-9d559cba7a6f"
      },
      "execution_count": null,
      "outputs": [
        {
          "output_type": "execute_result",
          "data": {
            "text/plain": [
              "\"I'm sorry, but I don't have access to your previous input. How can I assist you today?\""
            ],
            "application/vnd.google.colaboratory.intrinsic+json": {
              "type": "string"
            }
          },
          "metadata": {},
          "execution_count": 16
        }
      ]
    },
    {
      "cell_type": "code",
      "source": [
        "from langchain import PromptTemplate\n",
        "\n",
        "from langchain.chains import RetrievalQA\n",
        "\n",
        "from langchain.memory import ConversationBufferMemory"
      ],
      "metadata": {
        "id": "r46ZHSj4fgxG"
      },
      "execution_count": null,
      "outputs": []
    },
    {
      "cell_type": "code",
      "source": [
        "template = \"\"\"\n",
        "Use the following context (delimited by <ctx></ctx>) and the chat history (delimited by <hs></hs>) to answer the question:\n",
        "------\n",
        "<ctx>\n",
        "{context}\n",
        "</ctx>\n",
        "------\n",
        "<hs>\n",
        "{history}\n",
        "</hs>\n",
        "------\n",
        "{question}\n",
        "Answer:\n",
        "\"\"\"\n",
        "prompt = PromptTemplate(\n",
        "    input_variables=[\"history\", \"context\", \"question\"],\n",
        "    template=template,\n",
        ")"
      ],
      "metadata": {
        "id": "0j-6Mlk0fPYd"
      },
      "execution_count": null,
      "outputs": []
    },
    {
      "cell_type": "code",
      "source": [
        "memory2 = ConversationBufferMemory(\n",
        "    memory_key=\"history\",\n",
        "    input_key=\"question\"\n",
        ")\n",
        "\n",
        "retrieval_chain = RetrievalQA.from_chain_type(llm,\n",
        "                                              chain_type='stuff',\n",
        "                                              retriever = db.as_retriever(),\n",
        "                                              chain_type_kwargs={\n",
        "                                                  \"prompt\": prompt,\n",
        "                                                  \"memory\": memory2\n",
        "                                              })"
      ],
      "metadata": {
        "id": "RYny3dKgsgVT"
      },
      "execution_count": null,
      "outputs": []
    },
    {
      "cell_type": "code",
      "source": [
        "q1=\"define management?\"\n",
        "q2=\"what are functions of management?\"\n",
        "q3=\"describe 14 principles of management by henri fayol?\"\n",
        "q4=\"what are principles of scientific management?\"\n",
        "q5=\"explain hygiene factors?\"\n",
        "q6=\"list the leadership styles?\"\n",
        "q7=\"who was Frederick Winslow Taylor?\"\n",
        "q8=\"list the features of scientific management?\"\n",
        "q9=\"how is management different from administration?\"\n",
        "q10=\"what defination of management was given by Peter F Drucker?\""
      ],
      "metadata": {
        "id": "f1SKAqRXbgQr"
      },
      "execution_count": null,
      "outputs": []
    },
    {
      "cell_type": "code",
      "source": [
        "retrieval_chain.invoke(q1)"
      ],
      "metadata": {
        "colab": {
          "base_uri": "https://localhost:8080/"
        },
        "id": "fl9kLtnWfYp2",
        "outputId": "bafaf9ee-5c5e-4818-b8fd-3893d8788027"
      },
      "execution_count": null,
      "outputs": [
        {
          "output_type": "execute_result",
          "data": {
            "text/plain": [
              "{'query': 'define management?',\n",
              " 'result': 'Management can be defined as the art of getting things done through and with people in formally organized groups. It involves forecasting, planning, organizing, commanding, coordinating, and controlling resources to achieve predetermined goals. Management is also concerned with the systematic organization of economic resources to make them productive.'}"
            ]
          },
          "metadata": {},
          "execution_count": 33
        }
      ]
    },
    {
      "cell_type": "code",
      "source": [
        "memory2.load_memory_variables({})"
      ],
      "metadata": {
        "colab": {
          "base_uri": "https://localhost:8080/"
        },
        "id": "UrfxYnW5nITD",
        "outputId": "f4f4f39d-5cf6-472d-b43b-e93305bdd4ef"
      },
      "execution_count": null,
      "outputs": [
        {
          "output_type": "execute_result",
          "data": {
            "text/plain": [
              "{'history': 'Human: define management?\\nAI: Management can be defined as the art of getting things done through and with people in formally organized groups. It involves forecasting, planning, organizing, commanding, coordinating, and controlling resources to achieve predetermined goals. Management is also concerned with the systematic organization of economic resources to make them productive.'}"
            ]
          },
          "metadata": {},
          "execution_count": 34
        }
      ]
    },
    {
      "cell_type": "code",
      "source": [
        "print(memory2.buffer)"
      ],
      "metadata": {
        "colab": {
          "base_uri": "https://localhost:8080/"
        },
        "id": "bhGe8B5jnIY1",
        "outputId": "3a46d4a6-0812-45f6-fbdd-77fed04dd51d"
      },
      "execution_count": null,
      "outputs": [
        {
          "output_type": "stream",
          "name": "stdout",
          "text": [
            "Human: define management?\n",
            "AI: Management can be defined as the art of getting things done through and with people in formally organized groups. It involves forecasting, planning, organizing, commanding, coordinating, and controlling resources to achieve predetermined goals. Management is also concerned with the systematic organization of economic resources to make them productive.\n"
          ]
        }
      ]
    },
    {
      "cell_type": "code",
      "source": [
        "retrieval_chain.invoke(q2)"
      ],
      "metadata": {
        "colab": {
          "base_uri": "https://localhost:8080/"
        },
        "id": "ejqQoY0nnIcB",
        "outputId": "8eb6d021-57f2-4e49-9447-77eb8ad9dd56"
      },
      "execution_count": null,
      "outputs": [
        {
          "output_type": "execute_result",
          "data": {
            "text/plain": [
              "{'query': 'what are functions of management?',\n",
              " 'result': 'The functions of management include planning, organizing, staffing, directing, coordinating, and controlling. These functions are overlapping in nature and highly inseparable, as each function blends into the other and affects the performance of others.'}"
            ]
          },
          "metadata": {},
          "execution_count": 36
        }
      ]
    },
    {
      "cell_type": "code",
      "source": [
        "retrieval_chain.invoke(q3)"
      ],
      "metadata": {
        "colab": {
          "base_uri": "https://localhost:8080/"
        },
        "id": "ZIGSgI8wopNg",
        "outputId": "f70fae9f-de92-4ab9-b54e-deaabafb7d9e"
      },
      "execution_count": null,
      "outputs": [
        {
          "output_type": "execute_result",
          "data": {
            "text/plain": [
              "{'query': 'describe 14 principles of management by henri fayol?',\n",
              " 'result': \"Henri Fayol's 14 principles of management are as follows:\\n\\n1. Division of Labor: Specialization of jobs to increase efficiency.\\n2. Authority and Responsibility: Managers must have the authority to give orders, but also the responsibility to ensure they are carried out.\\n3. Discipline: Employees must respect authority and follow rules and regulations.\\n4. Unity of Command: Each employee should receive orders from only one superior.\\n5. Unity of Direction: One plan of action to guide the organization towards a common goal.\\n6. Subordination of Individual Interests to the General Interest: The interests of the organization should come before individual interests.\\n7. Remuneration: Fair compensation for employees based on their contributions.\\n8. Centralization: The degree to which authority is concentrated at the top level.\\n9. Scalar Chain: A clear line of authority from top management to the lowest ranks.\\n10. Order: Proper arrangement of things and people for efficiency.\\n11. Equity: Fairness and kindness in dealing with employees.\\n12. Stability of Tenure of Personnel: Retaining employees for a longer period to reduce turnover.\\n13. Initiative: Encouraging employees to take initiative and contribute ideas.\\n14. Esprit de Corps: Fostering team spirit and unity among employees.\"}"
            ]
          },
          "metadata": {},
          "execution_count": 37
        }
      ]
    },
    {
      "cell_type": "code",
      "source": [
        "retrieval_chain.invoke(q4)"
      ],
      "metadata": {
        "colab": {
          "base_uri": "https://localhost:8080/"
        },
        "id": "jOfMaJCpgiEU",
        "outputId": "045431d8-9005-492d-9fdc-309e945a1bb6"
      },
      "execution_count": null,
      "outputs": [
        {
          "output_type": "execute_result",
          "data": {
            "text/plain": [
              "{'query': 'what are principles of scientific management?',\n",
              " 'result': 'The principles of scientific management, as developed by Frederick Winslow Taylor, include:\\n\\n1. Replacing rule of thumb with science\\n2. Harmony in group action\\n3. Co-operation\\n4. Maximum output\\n5. Development of workers\\n\\nIn terms of the general approach, the principles also involve:\\n1. Shift in decision making from employees to managers\\n2. Developing a standard method for performing each job\\n3. Selecting workers with appropriate abilities for each job\\n4. Training workers in the standard method previously developed\\n\\nThese principles emphasize the importance of scientific analysis and systematic management practices to improve efficiency and productivity in the workplace.'}"
            ]
          },
          "metadata": {},
          "execution_count": 38
        }
      ]
    },
    {
      "cell_type": "code",
      "source": [
        "retrieval_chain.invoke(q5)"
      ],
      "metadata": {
        "colab": {
          "base_uri": "https://localhost:8080/"
        },
        "id": "ExzTNYuzgiLo",
        "outputId": "f995814b-fb30-4c17-a750-4c2db68147c6"
      },
      "execution_count": null,
      "outputs": [
        {
          "output_type": "execute_result",
          "data": {
            "text/plain": [
              "{'query': 'explain hygiene factors?',\n",
              " 'result': 'Hygiene factors are essential job factors that are necessary for the existence of motivation in the workplace. These factors do not directly lead to long-term positive satisfaction, but their absence or non-existence can result in dissatisfaction among employees. Hygiene factors, also known as dissatisfiers or maintenance factors, are required to prevent dissatisfaction. These factors include aspects such as pay, company policies, fringe benefits, physical working conditions, status, interpersonal relations, and job security. They are symbolized as fulfilling the physiological needs that individuals expect to be met in the workplace.'}"
            ]
          },
          "metadata": {},
          "execution_count": 39
        }
      ]
    },
    {
      "cell_type": "code",
      "source": [
        "retrieval_chain.invoke(q6)"
      ],
      "metadata": {
        "colab": {
          "base_uri": "https://localhost:8080/"
        },
        "id": "O8zFmsv6giTT",
        "outputId": "6b37085b-1ded-4189-b114-6623ad11422c"
      },
      "execution_count": null,
      "outputs": [
        {
          "output_type": "execute_result",
          "data": {
            "text/plain": [
              "{'query': 'list the leadership styles?',\n",
              " 'result': '1. People-oriented leadership\\n2. Servant leadership\\n3. Task-oriented leadership\\n4. Transactional leadership\\n5. Transformational leadership\\n6. Autocratic leadership\\n7. Bureaucratic leadership\\n8. Charismatic leadership\\n9. Democratic leadership or Participative leadership\\n10. Laissez-Faire leadership'}"
            ]
          },
          "metadata": {},
          "execution_count": 40
        }
      ]
    },
    {
      "cell_type": "code",
      "source": [
        "retrieval_chain.invoke(q7)"
      ],
      "metadata": {
        "colab": {
          "base_uri": "https://localhost:8080/"
        },
        "id": "R7dfM_4Jgiar",
        "outputId": "5d45de7b-cdf4-47a4-dc8a-bbad8f16ca71"
      },
      "execution_count": null,
      "outputs": [
        {
          "output_type": "execute_result",
          "data": {
            "text/plain": [
              "{'query': 'who was Frederick Winslow Taylor?',\n",
              " 'result': 'Frederick Winslow Taylor (1856-1915) was an American mechanical engineer and the developer of scientific management, also known as Taylorism. He is widely regarded as the father of scientific management and was one of the first management consultants. Taylor\\'s work focused on analyzing and synthesizing workflows to improve labor productivity, with the core ideas of his theory first published in his monographs \"Shop Management\" (1905) and \"The Principles of Scientific Management\" (1911). His approach emphasized replacing traditional decision-making methods with precise procedures developed through careful study of individual work processes. Taylor\\'s work had a significant impact on the field of management and industrial efficiency during the late 19th and early 20th centuries.'}"
            ]
          },
          "metadata": {},
          "execution_count": 41
        }
      ]
    },
    {
      "cell_type": "code",
      "source": [
        "retrieval_chain.invoke(q8)"
      ],
      "metadata": {
        "colab": {
          "base_uri": "https://localhost:8080/"
        },
        "id": "UtLcermqgiil",
        "outputId": "3a5e80db-46e9-4577-e9f1-ee4a17da36ee"
      },
      "execution_count": null,
      "outputs": [
        {
          "output_type": "execute_result",
          "data": {
            "text/plain": [
              "{'query': 'list the features of scientific management?',\n",
              " 'result': 'The features of scientific management include:\\n\\n1. Scientific task setting\\n2. Importance of compensation for performance\\n3. Specialization in every part of defined labor\\n4. Importance of selection criteria by management\\n5. Scientific approach to business management and process improvement\\n6. Careful study of tasks and jobs\\n7. Planning the task\\n8. Scientific selection and training of workers\\n9. Standardization\\n10. Specialization in the administrative and organizational setup of the plant'}"
            ]
          },
          "metadata": {},
          "execution_count": 42
        }
      ]
    },
    {
      "cell_type": "code",
      "source": [
        "retrieval_chain.invoke(q9)"
      ],
      "metadata": {
        "colab": {
          "base_uri": "https://localhost:8080/"
        },
        "id": "kQzoYjtXgipr",
        "outputId": "ba42af07-3b3a-4068-f076-4bc79f63e55f"
      },
      "execution_count": null,
      "outputs": [
        {
          "output_type": "execute_result",
          "data": {
            "text/plain": [
              "{'query': 'how is management different from administration?',\n",
              " 'result': 'Management and administration differ in terms of their functions and usage/applicability. \\n\\nManagement involves the guidance, leadership, and control of efforts towards common goals, focusing on getting things done through and with people in formally organized groups. It includes functions such as planning, organizing, staffing, directing, coordinating, and controlling resources to achieve predetermined objectives.\\n\\nOn the other hand, administration is about overall determination of policies, setting major objectives, identifying general purposes, and laying down broad programs and projects. It deals with higher-level activities, laying down basic principles of the enterprise.\\n\\nIn summary, management is more focused on the operational aspects of achieving goals through people, while administration is concerned with the broader strategic decisions and principles of the organization.'}"
            ]
          },
          "metadata": {},
          "execution_count": 43
        }
      ]
    },
    {
      "cell_type": "code",
      "source": [
        "retrieval_chain.invoke(q10)"
      ],
      "metadata": {
        "colab": {
          "base_uri": "https://localhost:8080/"
        },
        "id": "wVcktmEzgiwo",
        "outputId": "018ba05b-0cee-46bc-8b04-8b5a1b00144c"
      },
      "execution_count": null,
      "outputs": [
        {
          "output_type": "execute_result",
          "data": {
            "text/plain": [
              "{'query': 'what defination of management was given by Peter F Drucker?',\n",
              " 'result': 'Peter F Drucker defined management as \"Management is concerned with the systematic organization of economic resources and its task is to make these resources productive.\"'}"
            ]
          },
          "metadata": {},
          "execution_count": 44
        }
      ]
    },
    {
      "cell_type": "code",
      "source": [
        "memory2.load_memory_variables({})"
      ],
      "metadata": {
        "colab": {
          "base_uri": "https://localhost:8080/"
        },
        "id": "EUv15xP6g5is",
        "outputId": "95f4c212-9e4c-451e-cd8f-0f441fe3375b"
      },
      "execution_count": null,
      "outputs": [
        {
          "output_type": "execute_result",
          "data": {
            "text/plain": [
              "{'history': 'Human: define management?\\nAI: Management can be defined as the art of getting things done through and with people in formally organized groups. It involves forecasting, planning, organizing, commanding, coordinating, and controlling resources to achieve predetermined goals. Management is also concerned with the systematic organization of economic resources to make them productive.\\nHuman: what are functions of management?\\nAI: The functions of management include planning, organizing, staffing, directing, coordinating, and controlling. These functions are overlapping in nature and highly inseparable, as each function blends into the other and affects the performance of others.\\nHuman: describe 14 principles of management by henri fayol?\\nAI: Henri Fayol\\'s 14 principles of management are as follows:\\n\\n1. Division of Labor: Specialization of jobs to increase efficiency.\\n2. Authority and Responsibility: Managers must have the authority to give orders, but also the responsibility to ensure they are carried out.\\n3. Discipline: Employees must respect authority and follow rules and regulations.\\n4. Unity of Command: Each employee should receive orders from only one superior.\\n5. Unity of Direction: One plan of action to guide the organization towards a common goal.\\n6. Subordination of Individual Interests to the General Interest: The interests of the organization should come before individual interests.\\n7. Remuneration: Fair compensation for employees based on their contributions.\\n8. Centralization: The degree to which authority is concentrated at the top level.\\n9. Scalar Chain: A clear line of authority from top management to the lowest ranks.\\n10. Order: Proper arrangement of things and people for efficiency.\\n11. Equity: Fairness and kindness in dealing with employees.\\n12. Stability of Tenure of Personnel: Retaining employees for a longer period to reduce turnover.\\n13. Initiative: Encouraging employees to take initiative and contribute ideas.\\n14. Esprit de Corps: Fostering team spirit and unity among employees.\\nHuman: what are principles of scientific management?\\nAI: The principles of scientific management, as developed by Frederick Winslow Taylor, include:\\n\\n1. Replacing rule of thumb with science\\n2. Harmony in group action\\n3. Co-operation\\n4. Maximum output\\n5. Development of workers\\n\\nIn terms of the general approach, the principles also involve:\\n1. Shift in decision making from employees to managers\\n2. Developing a standard method for performing each job\\n3. Selecting workers with appropriate abilities for each job\\n4. Training workers in the standard method previously developed\\n\\nThese principles emphasize the importance of scientific analysis and systematic management practices to improve efficiency and productivity in the workplace.\\nHuman: explain hygiene factors?\\nAI: Hygiene factors are essential job factors that are necessary for the existence of motivation in the workplace. These factors do not directly lead to long-term positive satisfaction, but their absence or non-existence can result in dissatisfaction among employees. Hygiene factors, also known as dissatisfiers or maintenance factors, are required to prevent dissatisfaction. These factors include aspects such as pay, company policies, fringe benefits, physical working conditions, status, interpersonal relations, and job security. They are symbolized as fulfilling the physiological needs that individuals expect to be met in the workplace.\\nHuman: list the leadership styles?\\nAI: 1. People-oriented leadership\\n2. Servant leadership\\n3. Task-oriented leadership\\n4. Transactional leadership\\n5. Transformational leadership\\n6. Autocratic leadership\\n7. Bureaucratic leadership\\n8. Charismatic leadership\\n9. Democratic leadership or Participative leadership\\n10. Laissez-Faire leadership\\nHuman: who was Frederick Winslow Taylor?\\nAI: Frederick Winslow Taylor (1856-1915) was an American mechanical engineer and the developer of scientific management, also known as Taylorism. He is widely regarded as the father of scientific management and was one of the first management consultants. Taylor\\'s work focused on analyzing and synthesizing workflows to improve labor productivity, with the core ideas of his theory first published in his monographs \"Shop Management\" (1905) and \"The Principles of Scientific Management\" (1911). His approach emphasized replacing traditional decision-making methods with precise procedures developed through careful study of individual work processes. Taylor\\'s work had a significant impact on the field of management and industrial efficiency during the late 19th and early 20th centuries.\\nHuman: list the features of scientific management?\\nAI: The features of scientific management include:\\n\\n1. Scientific task setting\\n2. Importance of compensation for performance\\n3. Specialization in every part of defined labor\\n4. Importance of selection criteria by management\\n5. Scientific approach to business management and process improvement\\n6. Careful study of tasks and jobs\\n7. Planning the task\\n8. Scientific selection and training of workers\\n9. Standardization\\n10. Specialization in the administrative and organizational setup of the plant\\nHuman: how is management different from administration?\\nAI: Management and administration differ in terms of their functions and usage/applicability. \\n\\nManagement involves the guidance, leadership, and control of efforts towards common goals, focusing on getting things done through and with people in formally organized groups. It includes functions such as planning, organizing, staffing, directing, coordinating, and controlling resources to achieve predetermined objectives.\\n\\nOn the other hand, administration is about overall determination of policies, setting major objectives, identifying general purposes, and laying down broad programs and projects. It deals with higher-level activities, laying down basic principles of the enterprise.\\n\\nIn summary, management is more focused on the operational aspects of achieving goals through people, while administration is concerned with the broader strategic decisions and principles of the organization.\\nHuman: what defination of management was given by Peter F Drucker?\\nAI: Peter F Drucker defined management as \"Management is concerned with the systematic organization of economic resources and its task is to make these resources productive.\"'}"
            ]
          },
          "metadata": {},
          "execution_count": 45
        }
      ]
    },
    {
      "cell_type": "code",
      "source": [
        "print(memory2.buffer)"
      ],
      "metadata": {
        "colab": {
          "base_uri": "https://localhost:8080/"
        },
        "id": "2LbpPzCwhCB8",
        "outputId": "a8267762-c949-4b5d-9610-33375261a5d8"
      },
      "execution_count": null,
      "outputs": [
        {
          "output_type": "stream",
          "name": "stdout",
          "text": [
            "Human: define management?\n",
            "AI: Management can be defined as the art of getting things done through and with people in formally organized groups. It involves forecasting, planning, organizing, commanding, coordinating, and controlling resources to achieve predetermined goals. Management is also concerned with the systematic organization of economic resources to make them productive.\n",
            "Human: what are functions of management?\n",
            "AI: The functions of management include planning, organizing, staffing, directing, coordinating, and controlling. These functions are overlapping in nature and highly inseparable, as each function blends into the other and affects the performance of others.\n",
            "Human: describe 14 principles of management by henri fayol?\n",
            "AI: Henri Fayol's 14 principles of management are as follows:\n",
            "\n",
            "1. Division of Labor: Specialization of jobs to increase efficiency.\n",
            "2. Authority and Responsibility: Managers must have the authority to give orders, but also the responsibility to ensure they are carried out.\n",
            "3. Discipline: Employees must respect authority and follow rules and regulations.\n",
            "4. Unity of Command: Each employee should receive orders from only one superior.\n",
            "5. Unity of Direction: One plan of action to guide the organization towards a common goal.\n",
            "6. Subordination of Individual Interests to the General Interest: The interests of the organization should come before individual interests.\n",
            "7. Remuneration: Fair compensation for employees based on their contributions.\n",
            "8. Centralization: The degree to which authority is concentrated at the top level.\n",
            "9. Scalar Chain: A clear line of authority from top management to the lowest ranks.\n",
            "10. Order: Proper arrangement of things and people for efficiency.\n",
            "11. Equity: Fairness and kindness in dealing with employees.\n",
            "12. Stability of Tenure of Personnel: Retaining employees for a longer period to reduce turnover.\n",
            "13. Initiative: Encouraging employees to take initiative and contribute ideas.\n",
            "14. Esprit de Corps: Fostering team spirit and unity among employees.\n",
            "Human: what are principles of scientific management?\n",
            "AI: The principles of scientific management, as developed by Frederick Winslow Taylor, include:\n",
            "\n",
            "1. Replacing rule of thumb with science\n",
            "2. Harmony in group action\n",
            "3. Co-operation\n",
            "4. Maximum output\n",
            "5. Development of workers\n",
            "\n",
            "In terms of the general approach, the principles also involve:\n",
            "1. Shift in decision making from employees to managers\n",
            "2. Developing a standard method for performing each job\n",
            "3. Selecting workers with appropriate abilities for each job\n",
            "4. Training workers in the standard method previously developed\n",
            "\n",
            "These principles emphasize the importance of scientific analysis and systematic management practices to improve efficiency and productivity in the workplace.\n",
            "Human: explain hygiene factors?\n",
            "AI: Hygiene factors are essential job factors that are necessary for the existence of motivation in the workplace. These factors do not directly lead to long-term positive satisfaction, but their absence or non-existence can result in dissatisfaction among employees. Hygiene factors, also known as dissatisfiers or maintenance factors, are required to prevent dissatisfaction. These factors include aspects such as pay, company policies, fringe benefits, physical working conditions, status, interpersonal relations, and job security. They are symbolized as fulfilling the physiological needs that individuals expect to be met in the workplace.\n",
            "Human: list the leadership styles?\n",
            "AI: 1. People-oriented leadership\n",
            "2. Servant leadership\n",
            "3. Task-oriented leadership\n",
            "4. Transactional leadership\n",
            "5. Transformational leadership\n",
            "6. Autocratic leadership\n",
            "7. Bureaucratic leadership\n",
            "8. Charismatic leadership\n",
            "9. Democratic leadership or Participative leadership\n",
            "10. Laissez-Faire leadership\n",
            "Human: who was Frederick Winslow Taylor?\n",
            "AI: Frederick Winslow Taylor (1856-1915) was an American mechanical engineer and the developer of scientific management, also known as Taylorism. He is widely regarded as the father of scientific management and was one of the first management consultants. Taylor's work focused on analyzing and synthesizing workflows to improve labor productivity, with the core ideas of his theory first published in his monographs \"Shop Management\" (1905) and \"The Principles of Scientific Management\" (1911). His approach emphasized replacing traditional decision-making methods with precise procedures developed through careful study of individual work processes. Taylor's work had a significant impact on the field of management and industrial efficiency during the late 19th and early 20th centuries.\n",
            "Human: list the features of scientific management?\n",
            "AI: The features of scientific management include:\n",
            "\n",
            "1. Scientific task setting\n",
            "2. Importance of compensation for performance\n",
            "3. Specialization in every part of defined labor\n",
            "4. Importance of selection criteria by management\n",
            "5. Scientific approach to business management and process improvement\n",
            "6. Careful study of tasks and jobs\n",
            "7. Planning the task\n",
            "8. Scientific selection and training of workers\n",
            "9. Standardization\n",
            "10. Specialization in the administrative and organizational setup of the plant\n",
            "Human: how is management different from administration?\n",
            "AI: Management and administration differ in terms of their functions and usage/applicability. \n",
            "\n",
            "Management involves the guidance, leadership, and control of efforts towards common goals, focusing on getting things done through and with people in formally organized groups. It includes functions such as planning, organizing, staffing, directing, coordinating, and controlling resources to achieve predetermined objectives.\n",
            "\n",
            "On the other hand, administration is about overall determination of policies, setting major objectives, identifying general purposes, and laying down broad programs and projects. It deals with higher-level activities, laying down basic principles of the enterprise.\n",
            "\n",
            "In summary, management is more focused on the operational aspects of achieving goals through people, while administration is concerned with the broader strategic decisions and principles of the organization.\n",
            "Human: what defination of management was given by Peter F Drucker?\n",
            "AI: Peter F Drucker defined management as \"Management is concerned with the systematic organization of economic resources and its task is to make these resources productive.\"\n"
          ]
        }
      ]
    },
    {
      "cell_type": "code",
      "source": [
        "q11=\"what was my last question?\"\n",
        "retrieval_chain.invoke(q11)"
      ],
      "metadata": {
        "colab": {
          "base_uri": "https://localhost:8080/"
        },
        "id": "hUops-GJhEod",
        "outputId": "85f8aab4-bfed-471e-d52d-a66faf37fe6b"
      },
      "execution_count": null,
      "outputs": [
        {
          "output_type": "execute_result",
          "data": {
            "text/plain": [
              "{'query': 'what was my last question?',\n",
              " 'result': 'Your last question was \"what defination of management was given by Peter F Drucker?\"'}"
            ]
          },
          "metadata": {},
          "execution_count": 47
        }
      ]
    },
    {
      "cell_type": "code",
      "source": [
        "q12=\"can u count and list all the questions or queries i aksed u?\"\n",
        "retrieval_chain.invoke(q12)"
      ],
      "metadata": {
        "colab": {
          "base_uri": "https://localhost:8080/"
        },
        "id": "fVUx_tlKhfoO",
        "outputId": "8c1b6347-7347-4ec7-c42b-f578275eb198"
      },
      "execution_count": null,
      "outputs": [
        {
          "output_type": "execute_result",
          "data": {
            "text/plain": [
              "{'query': 'can u count and list all the questions or queries i aksed u?',\n",
              " 'result': '1. Human: define management?\\n2. Human: what are functions of management?\\n3. Human: describe 14 principles of management by henri fayol?\\n4. Human: what are principles of scientific management?\\n5. Human: explain hygiene factors?\\n6. Human: list the leadership styles?\\n7. Human: who was Frederick Winslow Taylor?\\n8. Human: list the features of scientific management?\\n9. Human: how is management different from administration?\\n10. Human: what defination of management was given by Peter F Drucker?\\n11. Human: what was my last question?'}"
            ]
          },
          "metadata": {},
          "execution_count": 49
        }
      ]
    },
    {
      "cell_type": "markdown",
      "source": [
        "Conversation Buffer Window Memory"
      ],
      "metadata": {
        "id": "4thzWMFK3nqO"
      }
    },
    {
      "cell_type": "code",
      "source": [
        "from langchain.memory import ConversationBufferWindowMemory"
      ],
      "metadata": {
        "id": "XKOyMAMrhrjr"
      },
      "execution_count": null,
      "outputs": []
    },
    {
      "cell_type": "code",
      "source": [
        "memory2 = ConversationBufferWindowMemory(k=2)\n",
        "conversation_buf2 = ConversationChain(\n",
        "    llm=llm,\n",
        "    memory=memory2\n",
        ")"
      ],
      "metadata": {
        "id": "zKFuSkxx3uXY"
      },
      "execution_count": null,
      "outputs": []
    },
    {
      "cell_type": "code",
      "source": [],
      "metadata": {
        "id": "AcxmYIAD3uZ5"
      },
      "execution_count": null,
      "outputs": []
    },
    {
      "cell_type": "code",
      "source": [],
      "metadata": {
        "id": "pS79ZVEO3ucM"
      },
      "execution_count": null,
      "outputs": []
    },
    {
      "cell_type": "code",
      "source": [],
      "metadata": {
        "id": "X9NhRIWh3ufq"
      },
      "execution_count": null,
      "outputs": []
    }
  ]
}